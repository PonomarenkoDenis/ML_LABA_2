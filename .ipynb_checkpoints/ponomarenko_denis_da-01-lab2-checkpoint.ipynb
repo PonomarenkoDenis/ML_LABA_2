{
 "cells": [
  {
   "cell_type": "code",
   "execution_count": 1,
   "id": "bd56710e",
   "metadata": {
    "_cell_guid": "b1076dfc-b9ad-4769-8c92-a6c4dae69d19",
    "_uuid": "8f2839f25d086af736a60e9eeb907d3b93b6e0e5",
    "execution": {
     "iopub.execute_input": "2022-06-19T14:42:43.345406Z",
     "iopub.status.busy": "2022-06-19T14:42:43.344822Z",
     "iopub.status.idle": "2022-06-19T14:42:44.475574Z",
     "shell.execute_reply": "2022-06-19T14:42:44.474798Z"
    },
    "papermill": {
     "duration": 1.151547,
     "end_time": "2022-06-19T14:42:44.479042",
     "exception": false,
     "start_time": "2022-06-19T14:42:43.327495",
     "status": "completed"
    },
    "tags": []
   },
   "outputs": [],
   "source": [
    "import numpy as np \n",
    "import pandas as pd\n",
    "import matplotlib.pyplot as plt\n",
    "import seaborn as sns\n"
   ]
  },
  {
   "cell_type": "code",
   "execution_count": 2,
   "id": "14409539",
   "metadata": {
    "execution": {
     "iopub.execute_input": "2022-06-19T14:42:44.547619Z",
     "iopub.status.busy": "2022-06-19T14:42:44.547092Z",
     "iopub.status.idle": "2022-06-19T14:42:50.422322Z",
     "shell.execute_reply": "2022-06-19T14:42:50.421248Z"
    },
    "papermill": {
     "duration": 5.894262,
     "end_time": "2022-06-19T14:42:50.425268",
     "exception": false,
     "start_time": "2022-06-19T14:42:44.531006",
     "status": "completed"
    },
    "tags": []
   },
   "outputs": [
    {
     "data": {
      "text/html": [
       "<div>\n",
       "<style scoped>\n",
       "    .dataframe tbody tr th:only-of-type {\n",
       "        vertical-align: middle;\n",
       "    }\n",
       "\n",
       "    .dataframe tbody tr th {\n",
       "        vertical-align: top;\n",
       "    }\n",
       "\n",
       "    .dataframe thead th {\n",
       "        text-align: right;\n",
       "    }\n",
       "</style>\n",
       "<table border=\"1\" class=\"dataframe\">\n",
       "  <thead>\n",
       "    <tr style=\"text-align: right;\">\n",
       "      <th></th>\n",
       "      <th>SK_ID_CURR</th>\n",
       "      <th>NAME_CONTRACT_TYPE</th>\n",
       "      <th>CODE_GENDER</th>\n",
       "      <th>FLAG_OWN_CAR</th>\n",
       "      <th>FLAG_OWN_REALTY</th>\n",
       "      <th>CNT_CHILDREN</th>\n",
       "      <th>AMT_INCOME_TOTAL</th>\n",
       "      <th>AMT_CREDIT</th>\n",
       "      <th>AMT_ANNUITY</th>\n",
       "      <th>AMT_GOODS_PRICE</th>\n",
       "      <th>...</th>\n",
       "      <th>FLAG_DOCUMENT_18</th>\n",
       "      <th>FLAG_DOCUMENT_19</th>\n",
       "      <th>FLAG_DOCUMENT_20</th>\n",
       "      <th>FLAG_DOCUMENT_21</th>\n",
       "      <th>AMT_REQ_CREDIT_BUREAU_HOUR</th>\n",
       "      <th>AMT_REQ_CREDIT_BUREAU_DAY</th>\n",
       "      <th>AMT_REQ_CREDIT_BUREAU_WEEK</th>\n",
       "      <th>AMT_REQ_CREDIT_BUREAU_MON</th>\n",
       "      <th>AMT_REQ_CREDIT_BUREAU_QRT</th>\n",
       "      <th>AMT_REQ_CREDIT_BUREAU_YEAR</th>\n",
       "    </tr>\n",
       "  </thead>\n",
       "  <tbody>\n",
       "    <tr>\n",
       "      <th>0</th>\n",
       "      <td>100001</td>\n",
       "      <td>Cash loans</td>\n",
       "      <td>F</td>\n",
       "      <td>N</td>\n",
       "      <td>Y</td>\n",
       "      <td>0</td>\n",
       "      <td>135000.0</td>\n",
       "      <td>568800.0</td>\n",
       "      <td>20560.5</td>\n",
       "      <td>450000.0</td>\n",
       "      <td>...</td>\n",
       "      <td>0</td>\n",
       "      <td>0</td>\n",
       "      <td>0</td>\n",
       "      <td>0</td>\n",
       "      <td>0.0</td>\n",
       "      <td>0.0</td>\n",
       "      <td>0.0</td>\n",
       "      <td>0.0</td>\n",
       "      <td>0.0</td>\n",
       "      <td>0.0</td>\n",
       "    </tr>\n",
       "    <tr>\n",
       "      <th>1</th>\n",
       "      <td>100005</td>\n",
       "      <td>Cash loans</td>\n",
       "      <td>M</td>\n",
       "      <td>N</td>\n",
       "      <td>Y</td>\n",
       "      <td>0</td>\n",
       "      <td>99000.0</td>\n",
       "      <td>222768.0</td>\n",
       "      <td>17370.0</td>\n",
       "      <td>180000.0</td>\n",
       "      <td>...</td>\n",
       "      <td>0</td>\n",
       "      <td>0</td>\n",
       "      <td>0</td>\n",
       "      <td>0</td>\n",
       "      <td>0.0</td>\n",
       "      <td>0.0</td>\n",
       "      <td>0.0</td>\n",
       "      <td>0.0</td>\n",
       "      <td>0.0</td>\n",
       "      <td>3.0</td>\n",
       "    </tr>\n",
       "    <tr>\n",
       "      <th>2</th>\n",
       "      <td>100013</td>\n",
       "      <td>Cash loans</td>\n",
       "      <td>M</td>\n",
       "      <td>Y</td>\n",
       "      <td>Y</td>\n",
       "      <td>0</td>\n",
       "      <td>202500.0</td>\n",
       "      <td>663264.0</td>\n",
       "      <td>69777.0</td>\n",
       "      <td>630000.0</td>\n",
       "      <td>...</td>\n",
       "      <td>0</td>\n",
       "      <td>0</td>\n",
       "      <td>0</td>\n",
       "      <td>0</td>\n",
       "      <td>0.0</td>\n",
       "      <td>0.0</td>\n",
       "      <td>0.0</td>\n",
       "      <td>0.0</td>\n",
       "      <td>1.0</td>\n",
       "      <td>4.0</td>\n",
       "    </tr>\n",
       "    <tr>\n",
       "      <th>3</th>\n",
       "      <td>100028</td>\n",
       "      <td>Cash loans</td>\n",
       "      <td>F</td>\n",
       "      <td>N</td>\n",
       "      <td>Y</td>\n",
       "      <td>2</td>\n",
       "      <td>315000.0</td>\n",
       "      <td>1575000.0</td>\n",
       "      <td>49018.5</td>\n",
       "      <td>1575000.0</td>\n",
       "      <td>...</td>\n",
       "      <td>0</td>\n",
       "      <td>0</td>\n",
       "      <td>0</td>\n",
       "      <td>0</td>\n",
       "      <td>0.0</td>\n",
       "      <td>0.0</td>\n",
       "      <td>0.0</td>\n",
       "      <td>0.0</td>\n",
       "      <td>0.0</td>\n",
       "      <td>3.0</td>\n",
       "    </tr>\n",
       "    <tr>\n",
       "      <th>4</th>\n",
       "      <td>100038</td>\n",
       "      <td>Cash loans</td>\n",
       "      <td>M</td>\n",
       "      <td>Y</td>\n",
       "      <td>N</td>\n",
       "      <td>1</td>\n",
       "      <td>180000.0</td>\n",
       "      <td>625500.0</td>\n",
       "      <td>32067.0</td>\n",
       "      <td>625500.0</td>\n",
       "      <td>...</td>\n",
       "      <td>0</td>\n",
       "      <td>0</td>\n",
       "      <td>0</td>\n",
       "      <td>0</td>\n",
       "      <td>NaN</td>\n",
       "      <td>NaN</td>\n",
       "      <td>NaN</td>\n",
       "      <td>NaN</td>\n",
       "      <td>NaN</td>\n",
       "      <td>NaN</td>\n",
       "    </tr>\n",
       "    <tr>\n",
       "      <th>...</th>\n",
       "      <td>...</td>\n",
       "      <td>...</td>\n",
       "      <td>...</td>\n",
       "      <td>...</td>\n",
       "      <td>...</td>\n",
       "      <td>...</td>\n",
       "      <td>...</td>\n",
       "      <td>...</td>\n",
       "      <td>...</td>\n",
       "      <td>...</td>\n",
       "      <td>...</td>\n",
       "      <td>...</td>\n",
       "      <td>...</td>\n",
       "      <td>...</td>\n",
       "      <td>...</td>\n",
       "      <td>...</td>\n",
       "      <td>...</td>\n",
       "      <td>...</td>\n",
       "      <td>...</td>\n",
       "      <td>...</td>\n",
       "      <td>...</td>\n",
       "    </tr>\n",
       "    <tr>\n",
       "      <th>48739</th>\n",
       "      <td>456221</td>\n",
       "      <td>Cash loans</td>\n",
       "      <td>F</td>\n",
       "      <td>N</td>\n",
       "      <td>Y</td>\n",
       "      <td>0</td>\n",
       "      <td>121500.0</td>\n",
       "      <td>412560.0</td>\n",
       "      <td>17473.5</td>\n",
       "      <td>270000.0</td>\n",
       "      <td>...</td>\n",
       "      <td>0</td>\n",
       "      <td>0</td>\n",
       "      <td>0</td>\n",
       "      <td>0</td>\n",
       "      <td>0.0</td>\n",
       "      <td>0.0</td>\n",
       "      <td>0.0</td>\n",
       "      <td>0.0</td>\n",
       "      <td>0.0</td>\n",
       "      <td>1.0</td>\n",
       "    </tr>\n",
       "    <tr>\n",
       "      <th>48740</th>\n",
       "      <td>456222</td>\n",
       "      <td>Cash loans</td>\n",
       "      <td>F</td>\n",
       "      <td>N</td>\n",
       "      <td>N</td>\n",
       "      <td>2</td>\n",
       "      <td>157500.0</td>\n",
       "      <td>622413.0</td>\n",
       "      <td>31909.5</td>\n",
       "      <td>495000.0</td>\n",
       "      <td>...</td>\n",
       "      <td>0</td>\n",
       "      <td>0</td>\n",
       "      <td>0</td>\n",
       "      <td>0</td>\n",
       "      <td>NaN</td>\n",
       "      <td>NaN</td>\n",
       "      <td>NaN</td>\n",
       "      <td>NaN</td>\n",
       "      <td>NaN</td>\n",
       "      <td>NaN</td>\n",
       "    </tr>\n",
       "    <tr>\n",
       "      <th>48741</th>\n",
       "      <td>456223</td>\n",
       "      <td>Cash loans</td>\n",
       "      <td>F</td>\n",
       "      <td>Y</td>\n",
       "      <td>Y</td>\n",
       "      <td>1</td>\n",
       "      <td>202500.0</td>\n",
       "      <td>315000.0</td>\n",
       "      <td>33205.5</td>\n",
       "      <td>315000.0</td>\n",
       "      <td>...</td>\n",
       "      <td>0</td>\n",
       "      <td>0</td>\n",
       "      <td>0</td>\n",
       "      <td>0</td>\n",
       "      <td>0.0</td>\n",
       "      <td>0.0</td>\n",
       "      <td>0.0</td>\n",
       "      <td>0.0</td>\n",
       "      <td>3.0</td>\n",
       "      <td>1.0</td>\n",
       "    </tr>\n",
       "    <tr>\n",
       "      <th>48742</th>\n",
       "      <td>456224</td>\n",
       "      <td>Cash loans</td>\n",
       "      <td>M</td>\n",
       "      <td>N</td>\n",
       "      <td>N</td>\n",
       "      <td>0</td>\n",
       "      <td>225000.0</td>\n",
       "      <td>450000.0</td>\n",
       "      <td>25128.0</td>\n",
       "      <td>450000.0</td>\n",
       "      <td>...</td>\n",
       "      <td>0</td>\n",
       "      <td>0</td>\n",
       "      <td>0</td>\n",
       "      <td>0</td>\n",
       "      <td>0.0</td>\n",
       "      <td>0.0</td>\n",
       "      <td>0.0</td>\n",
       "      <td>0.0</td>\n",
       "      <td>0.0</td>\n",
       "      <td>2.0</td>\n",
       "    </tr>\n",
       "    <tr>\n",
       "      <th>48743</th>\n",
       "      <td>456250</td>\n",
       "      <td>Cash loans</td>\n",
       "      <td>F</td>\n",
       "      <td>Y</td>\n",
       "      <td>N</td>\n",
       "      <td>0</td>\n",
       "      <td>135000.0</td>\n",
       "      <td>312768.0</td>\n",
       "      <td>24709.5</td>\n",
       "      <td>270000.0</td>\n",
       "      <td>...</td>\n",
       "      <td>0</td>\n",
       "      <td>0</td>\n",
       "      <td>0</td>\n",
       "      <td>0</td>\n",
       "      <td>0.0</td>\n",
       "      <td>0.0</td>\n",
       "      <td>0.0</td>\n",
       "      <td>0.0</td>\n",
       "      <td>1.0</td>\n",
       "      <td>4.0</td>\n",
       "    </tr>\n",
       "  </tbody>\n",
       "</table>\n",
       "<p>48744 rows × 121 columns</p>\n",
       "</div>"
      ],
      "text/plain": [
       "       SK_ID_CURR NAME_CONTRACT_TYPE CODE_GENDER FLAG_OWN_CAR FLAG_OWN_REALTY   \n",
       "0          100001         Cash loans           F            N               Y  \\\n",
       "1          100005         Cash loans           M            N               Y   \n",
       "2          100013         Cash loans           M            Y               Y   \n",
       "3          100028         Cash loans           F            N               Y   \n",
       "4          100038         Cash loans           M            Y               N   \n",
       "...           ...                ...         ...          ...             ...   \n",
       "48739      456221         Cash loans           F            N               Y   \n",
       "48740      456222         Cash loans           F            N               N   \n",
       "48741      456223         Cash loans           F            Y               Y   \n",
       "48742      456224         Cash loans           M            N               N   \n",
       "48743      456250         Cash loans           F            Y               N   \n",
       "\n",
       "       CNT_CHILDREN  AMT_INCOME_TOTAL  AMT_CREDIT  AMT_ANNUITY   \n",
       "0                 0          135000.0    568800.0      20560.5  \\\n",
       "1                 0           99000.0    222768.0      17370.0   \n",
       "2                 0          202500.0    663264.0      69777.0   \n",
       "3                 2          315000.0   1575000.0      49018.5   \n",
       "4                 1          180000.0    625500.0      32067.0   \n",
       "...             ...               ...         ...          ...   \n",
       "48739             0          121500.0    412560.0      17473.5   \n",
       "48740             2          157500.0    622413.0      31909.5   \n",
       "48741             1          202500.0    315000.0      33205.5   \n",
       "48742             0          225000.0    450000.0      25128.0   \n",
       "48743             0          135000.0    312768.0      24709.5   \n",
       "\n",
       "       AMT_GOODS_PRICE  ... FLAG_DOCUMENT_18 FLAG_DOCUMENT_19   \n",
       "0             450000.0  ...                0                0  \\\n",
       "1             180000.0  ...                0                0   \n",
       "2             630000.0  ...                0                0   \n",
       "3            1575000.0  ...                0                0   \n",
       "4             625500.0  ...                0                0   \n",
       "...                ...  ...              ...              ...   \n",
       "48739         270000.0  ...                0                0   \n",
       "48740         495000.0  ...                0                0   \n",
       "48741         315000.0  ...                0                0   \n",
       "48742         450000.0  ...                0                0   \n",
       "48743         270000.0  ...                0                0   \n",
       "\n",
       "      FLAG_DOCUMENT_20 FLAG_DOCUMENT_21 AMT_REQ_CREDIT_BUREAU_HOUR   \n",
       "0                    0                0                        0.0  \\\n",
       "1                    0                0                        0.0   \n",
       "2                    0                0                        0.0   \n",
       "3                    0                0                        0.0   \n",
       "4                    0                0                        NaN   \n",
       "...                ...              ...                        ...   \n",
       "48739                0                0                        0.0   \n",
       "48740                0                0                        NaN   \n",
       "48741                0                0                        0.0   \n",
       "48742                0                0                        0.0   \n",
       "48743                0                0                        0.0   \n",
       "\n",
       "       AMT_REQ_CREDIT_BUREAU_DAY  AMT_REQ_CREDIT_BUREAU_WEEK   \n",
       "0                            0.0                         0.0  \\\n",
       "1                            0.0                         0.0   \n",
       "2                            0.0                         0.0   \n",
       "3                            0.0                         0.0   \n",
       "4                            NaN                         NaN   \n",
       "...                          ...                         ...   \n",
       "48739                        0.0                         0.0   \n",
       "48740                        NaN                         NaN   \n",
       "48741                        0.0                         0.0   \n",
       "48742                        0.0                         0.0   \n",
       "48743                        0.0                         0.0   \n",
       "\n",
       "       AMT_REQ_CREDIT_BUREAU_MON  AMT_REQ_CREDIT_BUREAU_QRT   \n",
       "0                            0.0                        0.0  \\\n",
       "1                            0.0                        0.0   \n",
       "2                            0.0                        1.0   \n",
       "3                            0.0                        0.0   \n",
       "4                            NaN                        NaN   \n",
       "...                          ...                        ...   \n",
       "48739                        0.0                        0.0   \n",
       "48740                        NaN                        NaN   \n",
       "48741                        0.0                        3.0   \n",
       "48742                        0.0                        0.0   \n",
       "48743                        0.0                        1.0   \n",
       "\n",
       "       AMT_REQ_CREDIT_BUREAU_YEAR  \n",
       "0                             0.0  \n",
       "1                             3.0  \n",
       "2                             4.0  \n",
       "3                             3.0  \n",
       "4                             NaN  \n",
       "...                           ...  \n",
       "48739                         1.0  \n",
       "48740                         NaN  \n",
       "48741                         1.0  \n",
       "48742                         2.0  \n",
       "48743                         4.0  \n",
       "\n",
       "[48744 rows x 121 columns]"
      ]
     },
     "execution_count": 2,
     "metadata": {},
     "output_type": "execute_result"
    }
   ],
   "source": [
    "traindata = pd.read_csv('application_test.csv')\n",
    "traindata"
   ]
  },
  {
   "cell_type": "code",
   "execution_count": 3,
   "id": "87be8a36",
   "metadata": {
    "execution": {
     "iopub.execute_input": "2022-06-19T14:42:50.457561Z",
     "iopub.status.busy": "2022-06-19T14:42:50.457153Z",
     "iopub.status.idle": "2022-06-19T14:42:51.365339Z",
     "shell.execute_reply": "2022-06-19T14:42:51.364208Z"
    },
    "papermill": {
     "duration": 0.927105,
     "end_time": "2022-06-19T14:42:51.367713",
     "exception": false,
     "start_time": "2022-06-19T14:42:50.440608",
     "status": "completed"
    },
    "tags": []
   },
   "outputs": [
    {
     "data": {
      "text/html": [
       "<div>\n",
       "<style scoped>\n",
       "    .dataframe tbody tr th:only-of-type {\n",
       "        vertical-align: middle;\n",
       "    }\n",
       "\n",
       "    .dataframe tbody tr th {\n",
       "        vertical-align: top;\n",
       "    }\n",
       "\n",
       "    .dataframe thead th {\n",
       "        text-align: right;\n",
       "    }\n",
       "</style>\n",
       "<table border=\"1\" class=\"dataframe\">\n",
       "  <thead>\n",
       "    <tr style=\"text-align: right;\">\n",
       "      <th></th>\n",
       "      <th>SK_ID_CURR</th>\n",
       "      <th>TARGET</th>\n",
       "      <th>NAME_CONTRACT_TYPE</th>\n",
       "      <th>CODE_GENDER</th>\n",
       "      <th>FLAG_OWN_CAR</th>\n",
       "      <th>FLAG_OWN_REALTY</th>\n",
       "      <th>CNT_CHILDREN</th>\n",
       "      <th>AMT_INCOME_TOTAL</th>\n",
       "      <th>AMT_CREDIT</th>\n",
       "      <th>AMT_ANNUITY</th>\n",
       "      <th>...</th>\n",
       "      <th>FLAG_DOCUMENT_18</th>\n",
       "      <th>FLAG_DOCUMENT_19</th>\n",
       "      <th>FLAG_DOCUMENT_20</th>\n",
       "      <th>FLAG_DOCUMENT_21</th>\n",
       "      <th>AMT_REQ_CREDIT_BUREAU_HOUR</th>\n",
       "      <th>AMT_REQ_CREDIT_BUREAU_DAY</th>\n",
       "      <th>AMT_REQ_CREDIT_BUREAU_WEEK</th>\n",
       "      <th>AMT_REQ_CREDIT_BUREAU_MON</th>\n",
       "      <th>AMT_REQ_CREDIT_BUREAU_QRT</th>\n",
       "      <th>AMT_REQ_CREDIT_BUREAU_YEAR</th>\n",
       "    </tr>\n",
       "  </thead>\n",
       "  <tbody>\n",
       "    <tr>\n",
       "      <th>0</th>\n",
       "      <td>100002</td>\n",
       "      <td>1</td>\n",
       "      <td>Cash loans</td>\n",
       "      <td>M</td>\n",
       "      <td>N</td>\n",
       "      <td>Y</td>\n",
       "      <td>0</td>\n",
       "      <td>202500.0</td>\n",
       "      <td>406597.5</td>\n",
       "      <td>24700.5</td>\n",
       "      <td>...</td>\n",
       "      <td>0</td>\n",
       "      <td>0</td>\n",
       "      <td>0</td>\n",
       "      <td>0</td>\n",
       "      <td>0.0</td>\n",
       "      <td>0.0</td>\n",
       "      <td>0.0</td>\n",
       "      <td>0.0</td>\n",
       "      <td>0.0</td>\n",
       "      <td>1.0</td>\n",
       "    </tr>\n",
       "    <tr>\n",
       "      <th>1</th>\n",
       "      <td>100003</td>\n",
       "      <td>0</td>\n",
       "      <td>Cash loans</td>\n",
       "      <td>F</td>\n",
       "      <td>N</td>\n",
       "      <td>N</td>\n",
       "      <td>0</td>\n",
       "      <td>270000.0</td>\n",
       "      <td>1293502.5</td>\n",
       "      <td>35698.5</td>\n",
       "      <td>...</td>\n",
       "      <td>0</td>\n",
       "      <td>0</td>\n",
       "      <td>0</td>\n",
       "      <td>0</td>\n",
       "      <td>0.0</td>\n",
       "      <td>0.0</td>\n",
       "      <td>0.0</td>\n",
       "      <td>0.0</td>\n",
       "      <td>0.0</td>\n",
       "      <td>0.0</td>\n",
       "    </tr>\n",
       "    <tr>\n",
       "      <th>2</th>\n",
       "      <td>100004</td>\n",
       "      <td>0</td>\n",
       "      <td>Revolving loans</td>\n",
       "      <td>M</td>\n",
       "      <td>Y</td>\n",
       "      <td>Y</td>\n",
       "      <td>0</td>\n",
       "      <td>67500.0</td>\n",
       "      <td>135000.0</td>\n",
       "      <td>6750.0</td>\n",
       "      <td>...</td>\n",
       "      <td>0</td>\n",
       "      <td>0</td>\n",
       "      <td>0</td>\n",
       "      <td>0</td>\n",
       "      <td>0.0</td>\n",
       "      <td>0.0</td>\n",
       "      <td>0.0</td>\n",
       "      <td>0.0</td>\n",
       "      <td>0.0</td>\n",
       "      <td>0.0</td>\n",
       "    </tr>\n",
       "    <tr>\n",
       "      <th>3</th>\n",
       "      <td>100006</td>\n",
       "      <td>0</td>\n",
       "      <td>Cash loans</td>\n",
       "      <td>F</td>\n",
       "      <td>N</td>\n",
       "      <td>Y</td>\n",
       "      <td>0</td>\n",
       "      <td>135000.0</td>\n",
       "      <td>312682.5</td>\n",
       "      <td>29686.5</td>\n",
       "      <td>...</td>\n",
       "      <td>0</td>\n",
       "      <td>0</td>\n",
       "      <td>0</td>\n",
       "      <td>0</td>\n",
       "      <td>NaN</td>\n",
       "      <td>NaN</td>\n",
       "      <td>NaN</td>\n",
       "      <td>NaN</td>\n",
       "      <td>NaN</td>\n",
       "      <td>NaN</td>\n",
       "    </tr>\n",
       "    <tr>\n",
       "      <th>4</th>\n",
       "      <td>100007</td>\n",
       "      <td>0</td>\n",
       "      <td>Cash loans</td>\n",
       "      <td>M</td>\n",
       "      <td>N</td>\n",
       "      <td>Y</td>\n",
       "      <td>0</td>\n",
       "      <td>121500.0</td>\n",
       "      <td>513000.0</td>\n",
       "      <td>21865.5</td>\n",
       "      <td>...</td>\n",
       "      <td>0</td>\n",
       "      <td>0</td>\n",
       "      <td>0</td>\n",
       "      <td>0</td>\n",
       "      <td>0.0</td>\n",
       "      <td>0.0</td>\n",
       "      <td>0.0</td>\n",
       "      <td>0.0</td>\n",
       "      <td>0.0</td>\n",
       "      <td>0.0</td>\n",
       "    </tr>\n",
       "    <tr>\n",
       "      <th>...</th>\n",
       "      <td>...</td>\n",
       "      <td>...</td>\n",
       "      <td>...</td>\n",
       "      <td>...</td>\n",
       "      <td>...</td>\n",
       "      <td>...</td>\n",
       "      <td>...</td>\n",
       "      <td>...</td>\n",
       "      <td>...</td>\n",
       "      <td>...</td>\n",
       "      <td>...</td>\n",
       "      <td>...</td>\n",
       "      <td>...</td>\n",
       "      <td>...</td>\n",
       "      <td>...</td>\n",
       "      <td>...</td>\n",
       "      <td>...</td>\n",
       "      <td>...</td>\n",
       "      <td>...</td>\n",
       "      <td>...</td>\n",
       "      <td>...</td>\n",
       "    </tr>\n",
       "    <tr>\n",
       "      <th>307506</th>\n",
       "      <td>456251</td>\n",
       "      <td>0</td>\n",
       "      <td>Cash loans</td>\n",
       "      <td>M</td>\n",
       "      <td>N</td>\n",
       "      <td>N</td>\n",
       "      <td>0</td>\n",
       "      <td>157500.0</td>\n",
       "      <td>254700.0</td>\n",
       "      <td>27558.0</td>\n",
       "      <td>...</td>\n",
       "      <td>0</td>\n",
       "      <td>0</td>\n",
       "      <td>0</td>\n",
       "      <td>0</td>\n",
       "      <td>NaN</td>\n",
       "      <td>NaN</td>\n",
       "      <td>NaN</td>\n",
       "      <td>NaN</td>\n",
       "      <td>NaN</td>\n",
       "      <td>NaN</td>\n",
       "    </tr>\n",
       "    <tr>\n",
       "      <th>307507</th>\n",
       "      <td>456252</td>\n",
       "      <td>0</td>\n",
       "      <td>Cash loans</td>\n",
       "      <td>F</td>\n",
       "      <td>N</td>\n",
       "      <td>Y</td>\n",
       "      <td>0</td>\n",
       "      <td>72000.0</td>\n",
       "      <td>269550.0</td>\n",
       "      <td>12001.5</td>\n",
       "      <td>...</td>\n",
       "      <td>0</td>\n",
       "      <td>0</td>\n",
       "      <td>0</td>\n",
       "      <td>0</td>\n",
       "      <td>NaN</td>\n",
       "      <td>NaN</td>\n",
       "      <td>NaN</td>\n",
       "      <td>NaN</td>\n",
       "      <td>NaN</td>\n",
       "      <td>NaN</td>\n",
       "    </tr>\n",
       "    <tr>\n",
       "      <th>307508</th>\n",
       "      <td>456253</td>\n",
       "      <td>0</td>\n",
       "      <td>Cash loans</td>\n",
       "      <td>F</td>\n",
       "      <td>N</td>\n",
       "      <td>Y</td>\n",
       "      <td>0</td>\n",
       "      <td>153000.0</td>\n",
       "      <td>677664.0</td>\n",
       "      <td>29979.0</td>\n",
       "      <td>...</td>\n",
       "      <td>0</td>\n",
       "      <td>0</td>\n",
       "      <td>0</td>\n",
       "      <td>0</td>\n",
       "      <td>1.0</td>\n",
       "      <td>0.0</td>\n",
       "      <td>0.0</td>\n",
       "      <td>1.0</td>\n",
       "      <td>0.0</td>\n",
       "      <td>1.0</td>\n",
       "    </tr>\n",
       "    <tr>\n",
       "      <th>307509</th>\n",
       "      <td>456254</td>\n",
       "      <td>1</td>\n",
       "      <td>Cash loans</td>\n",
       "      <td>F</td>\n",
       "      <td>N</td>\n",
       "      <td>Y</td>\n",
       "      <td>0</td>\n",
       "      <td>171000.0</td>\n",
       "      <td>370107.0</td>\n",
       "      <td>20205.0</td>\n",
       "      <td>...</td>\n",
       "      <td>0</td>\n",
       "      <td>0</td>\n",
       "      <td>0</td>\n",
       "      <td>0</td>\n",
       "      <td>0.0</td>\n",
       "      <td>0.0</td>\n",
       "      <td>0.0</td>\n",
       "      <td>0.0</td>\n",
       "      <td>0.0</td>\n",
       "      <td>0.0</td>\n",
       "    </tr>\n",
       "    <tr>\n",
       "      <th>307510</th>\n",
       "      <td>456255</td>\n",
       "      <td>0</td>\n",
       "      <td>Cash loans</td>\n",
       "      <td>F</td>\n",
       "      <td>N</td>\n",
       "      <td>N</td>\n",
       "      <td>0</td>\n",
       "      <td>157500.0</td>\n",
       "      <td>675000.0</td>\n",
       "      <td>49117.5</td>\n",
       "      <td>...</td>\n",
       "      <td>0</td>\n",
       "      <td>0</td>\n",
       "      <td>0</td>\n",
       "      <td>0</td>\n",
       "      <td>0.0</td>\n",
       "      <td>0.0</td>\n",
       "      <td>0.0</td>\n",
       "      <td>2.0</td>\n",
       "      <td>0.0</td>\n",
       "      <td>1.0</td>\n",
       "    </tr>\n",
       "  </tbody>\n",
       "</table>\n",
       "<p>307511 rows × 122 columns</p>\n",
       "</div>"
      ],
      "text/plain": [
       "        SK_ID_CURR  TARGET NAME_CONTRACT_TYPE CODE_GENDER FLAG_OWN_CAR   \n",
       "0           100002       1         Cash loans           M            N  \\\n",
       "1           100003       0         Cash loans           F            N   \n",
       "2           100004       0    Revolving loans           M            Y   \n",
       "3           100006       0         Cash loans           F            N   \n",
       "4           100007       0         Cash loans           M            N   \n",
       "...            ...     ...                ...         ...          ...   \n",
       "307506      456251       0         Cash loans           M            N   \n",
       "307507      456252       0         Cash loans           F            N   \n",
       "307508      456253       0         Cash loans           F            N   \n",
       "307509      456254       1         Cash loans           F            N   \n",
       "307510      456255       0         Cash loans           F            N   \n",
       "\n",
       "       FLAG_OWN_REALTY  CNT_CHILDREN  AMT_INCOME_TOTAL  AMT_CREDIT   \n",
       "0                    Y             0          202500.0    406597.5  \\\n",
       "1                    N             0          270000.0   1293502.5   \n",
       "2                    Y             0           67500.0    135000.0   \n",
       "3                    Y             0          135000.0    312682.5   \n",
       "4                    Y             0          121500.0    513000.0   \n",
       "...                ...           ...               ...         ...   \n",
       "307506               N             0          157500.0    254700.0   \n",
       "307507               Y             0           72000.0    269550.0   \n",
       "307508               Y             0          153000.0    677664.0   \n",
       "307509               Y             0          171000.0    370107.0   \n",
       "307510               N             0          157500.0    675000.0   \n",
       "\n",
       "        AMT_ANNUITY  ...  FLAG_DOCUMENT_18 FLAG_DOCUMENT_19 FLAG_DOCUMENT_20   \n",
       "0           24700.5  ...                 0                0                0  \\\n",
       "1           35698.5  ...                 0                0                0   \n",
       "2            6750.0  ...                 0                0                0   \n",
       "3           29686.5  ...                 0                0                0   \n",
       "4           21865.5  ...                 0                0                0   \n",
       "...             ...  ...               ...              ...              ...   \n",
       "307506      27558.0  ...                 0                0                0   \n",
       "307507      12001.5  ...                 0                0                0   \n",
       "307508      29979.0  ...                 0                0                0   \n",
       "307509      20205.0  ...                 0                0                0   \n",
       "307510      49117.5  ...                 0                0                0   \n",
       "\n",
       "       FLAG_DOCUMENT_21 AMT_REQ_CREDIT_BUREAU_HOUR AMT_REQ_CREDIT_BUREAU_DAY   \n",
       "0                     0                        0.0                       0.0  \\\n",
       "1                     0                        0.0                       0.0   \n",
       "2                     0                        0.0                       0.0   \n",
       "3                     0                        NaN                       NaN   \n",
       "4                     0                        0.0                       0.0   \n",
       "...                 ...                        ...                       ...   \n",
       "307506                0                        NaN                       NaN   \n",
       "307507                0                        NaN                       NaN   \n",
       "307508                0                        1.0                       0.0   \n",
       "307509                0                        0.0                       0.0   \n",
       "307510                0                        0.0                       0.0   \n",
       "\n",
       "        AMT_REQ_CREDIT_BUREAU_WEEK  AMT_REQ_CREDIT_BUREAU_MON   \n",
       "0                              0.0                        0.0  \\\n",
       "1                              0.0                        0.0   \n",
       "2                              0.0                        0.0   \n",
       "3                              NaN                        NaN   \n",
       "4                              0.0                        0.0   \n",
       "...                            ...                        ...   \n",
       "307506                         NaN                        NaN   \n",
       "307507                         NaN                        NaN   \n",
       "307508                         0.0                        1.0   \n",
       "307509                         0.0                        0.0   \n",
       "307510                         0.0                        2.0   \n",
       "\n",
       "        AMT_REQ_CREDIT_BUREAU_QRT  AMT_REQ_CREDIT_BUREAU_YEAR  \n",
       "0                             0.0                         1.0  \n",
       "1                             0.0                         0.0  \n",
       "2                             0.0                         0.0  \n",
       "3                             NaN                         NaN  \n",
       "4                             0.0                         0.0  \n",
       "...                           ...                         ...  \n",
       "307506                        NaN                         NaN  \n",
       "307507                        NaN                         NaN  \n",
       "307508                        0.0                         1.0  \n",
       "307509                        0.0                         0.0  \n",
       "307510                        0.0                         1.0  \n",
       "\n",
       "[307511 rows x 122 columns]"
      ]
     },
     "execution_count": 3,
     "metadata": {},
     "output_type": "execute_result"
    }
   ],
   "source": [
    "testdata = pd.read_csv('application_train.csv')\n",
    "testdata"
   ]
  },
  {
   "cell_type": "markdown",
   "id": "ad089dfd",
   "metadata": {
    "papermill": {
     "duration": 0.015397,
     "end_time": "2022-06-19T14:42:51.399457",
     "exception": false,
     "start_time": "2022-06-19T14:42:51.384060",
     "status": "completed"
    },
    "tags": []
   },
   "source": [
    "EDA"
   ]
  },
  {
   "cell_type": "code",
   "execution_count": 4,
   "id": "ce1bd740",
   "metadata": {
    "execution": {
     "iopub.execute_input": "2022-06-19T14:42:51.433054Z",
     "iopub.status.busy": "2022-06-19T14:42:51.432640Z",
     "iopub.status.idle": "2022-06-19T14:42:51.440135Z",
     "shell.execute_reply": "2022-06-19T14:42:51.439014Z"
    },
    "papermill": {
     "duration": 0.026526,
     "end_time": "2022-06-19T14:42:51.442293",
     "exception": false,
     "start_time": "2022-06-19T14:42:51.415767",
     "status": "completed"
    },
    "tags": []
   },
   "outputs": [
    {
     "data": {
      "text/plain": [
       "Index(['SK_ID_CURR', 'NAME_CONTRACT_TYPE', 'CODE_GENDER', 'FLAG_OWN_CAR',\n",
       "       'FLAG_OWN_REALTY', 'CNT_CHILDREN', 'AMT_INCOME_TOTAL', 'AMT_CREDIT',\n",
       "       'AMT_ANNUITY', 'AMT_GOODS_PRICE',\n",
       "       ...\n",
       "       'FLAG_DOCUMENT_18', 'FLAG_DOCUMENT_19', 'FLAG_DOCUMENT_20',\n",
       "       'FLAG_DOCUMENT_21', 'AMT_REQ_CREDIT_BUREAU_HOUR',\n",
       "       'AMT_REQ_CREDIT_BUREAU_DAY', 'AMT_REQ_CREDIT_BUREAU_WEEK',\n",
       "       'AMT_REQ_CREDIT_BUREAU_MON', 'AMT_REQ_CREDIT_BUREAU_QRT',\n",
       "       'AMT_REQ_CREDIT_BUREAU_YEAR'],\n",
       "      dtype='object', length=121)"
      ]
     },
     "execution_count": 4,
     "metadata": {},
     "output_type": "execute_result"
    }
   ],
   "source": [
    "traindata.columns"
   ]
  },
  {
   "cell_type": "code",
   "execution_count": 5,
   "id": "ab07bfe6",
   "metadata": {
    "execution": {
     "iopub.execute_input": "2022-06-19T14:42:51.476592Z",
     "iopub.status.busy": "2022-06-19T14:42:51.475679Z",
     "iopub.status.idle": "2022-06-19T14:42:51.484839Z",
     "shell.execute_reply": "2022-06-19T14:42:51.483777Z"
    },
    "papermill": {
     "duration": 0.029161,
     "end_time": "2022-06-19T14:42:51.487416",
     "exception": false,
     "start_time": "2022-06-19T14:42:51.458255",
     "status": "completed"
    },
    "tags": []
   },
   "outputs": [
    {
     "name": "stdout",
     "output_type": "stream",
     "text": [
      "SK_ID_CURR                        int64\n",
      "NAME_CONTRACT_TYPE               object\n",
      "CODE_GENDER                      object\n",
      "FLAG_OWN_CAR                     object\n",
      "FLAG_OWN_REALTY                  object\n",
      "CNT_CHILDREN                      int64\n",
      "AMT_INCOME_TOTAL                float64\n",
      "AMT_CREDIT                      float64\n",
      "AMT_ANNUITY                     float64\n",
      "AMT_GOODS_PRICE                 float64\n",
      "NAME_TYPE_SUITE                  object\n",
      "NAME_INCOME_TYPE                 object\n",
      "NAME_EDUCATION_TYPE              object\n",
      "NAME_FAMILY_STATUS               object\n",
      "NAME_HOUSING_TYPE                object\n",
      "REGION_POPULATION_RELATIVE      float64\n",
      "DAYS_BIRTH                        int64\n",
      "DAYS_EMPLOYED                     int64\n",
      "DAYS_REGISTRATION               float64\n",
      "DAYS_ID_PUBLISH                   int64\n",
      "OWN_CAR_AGE                     float64\n",
      "FLAG_MOBIL                        int64\n",
      "FLAG_EMP_PHONE                    int64\n",
      "FLAG_WORK_PHONE                   int64\n",
      "FLAG_CONT_MOBILE                  int64\n",
      "FLAG_PHONE                        int64\n",
      "FLAG_EMAIL                        int64\n",
      "OCCUPATION_TYPE                  object\n",
      "CNT_FAM_MEMBERS                 float64\n",
      "REGION_RATING_CLIENT              int64\n",
      "REGION_RATING_CLIENT_W_CITY       int64\n",
      "WEEKDAY_APPR_PROCESS_START       object\n",
      "HOUR_APPR_PROCESS_START           int64\n",
      "REG_REGION_NOT_LIVE_REGION        int64\n",
      "REG_REGION_NOT_WORK_REGION        int64\n",
      "LIVE_REGION_NOT_WORK_REGION       int64\n",
      "REG_CITY_NOT_LIVE_CITY            int64\n",
      "REG_CITY_NOT_WORK_CITY            int64\n",
      "LIVE_CITY_NOT_WORK_CITY           int64\n",
      "ORGANIZATION_TYPE                object\n",
      "EXT_SOURCE_1                    float64\n",
      "EXT_SOURCE_2                    float64\n",
      "EXT_SOURCE_3                    float64\n",
      "APARTMENTS_AVG                  float64\n",
      "BASEMENTAREA_AVG                float64\n",
      "YEARS_BEGINEXPLUATATION_AVG     float64\n",
      "YEARS_BUILD_AVG                 float64\n",
      "COMMONAREA_AVG                  float64\n",
      "ELEVATORS_AVG                   float64\n",
      "ENTRANCES_AVG                   float64\n",
      "FLOORSMAX_AVG                   float64\n",
      "FLOORSMIN_AVG                   float64\n",
      "LANDAREA_AVG                    float64\n",
      "LIVINGAPARTMENTS_AVG            float64\n",
      "LIVINGAREA_AVG                  float64\n",
      "NONLIVINGAPARTMENTS_AVG         float64\n",
      "NONLIVINGAREA_AVG               float64\n",
      "APARTMENTS_MODE                 float64\n",
      "BASEMENTAREA_MODE               float64\n",
      "YEARS_BEGINEXPLUATATION_MODE    float64\n",
      "YEARS_BUILD_MODE                float64\n",
      "COMMONAREA_MODE                 float64\n",
      "ELEVATORS_MODE                  float64\n",
      "ENTRANCES_MODE                  float64\n",
      "FLOORSMAX_MODE                  float64\n",
      "FLOORSMIN_MODE                  float64\n",
      "LANDAREA_MODE                   float64\n",
      "LIVINGAPARTMENTS_MODE           float64\n",
      "LIVINGAREA_MODE                 float64\n",
      "NONLIVINGAPARTMENTS_MODE        float64\n",
      "NONLIVINGAREA_MODE              float64\n",
      "APARTMENTS_MEDI                 float64\n",
      "BASEMENTAREA_MEDI               float64\n",
      "YEARS_BEGINEXPLUATATION_MEDI    float64\n",
      "YEARS_BUILD_MEDI                float64\n",
      "COMMONAREA_MEDI                 float64\n",
      "ELEVATORS_MEDI                  float64\n",
      "ENTRANCES_MEDI                  float64\n",
      "FLOORSMAX_MEDI                  float64\n",
      "FLOORSMIN_MEDI                  float64\n",
      "LANDAREA_MEDI                   float64\n",
      "LIVINGAPARTMENTS_MEDI           float64\n",
      "LIVINGAREA_MEDI                 float64\n",
      "NONLIVINGAPARTMENTS_MEDI        float64\n",
      "NONLIVINGAREA_MEDI              float64\n",
      "FONDKAPREMONT_MODE               object\n",
      "HOUSETYPE_MODE                   object\n",
      "TOTALAREA_MODE                  float64\n",
      "WALLSMATERIAL_MODE               object\n",
      "EMERGENCYSTATE_MODE              object\n",
      "OBS_30_CNT_SOCIAL_CIRCLE        float64\n",
      "DEF_30_CNT_SOCIAL_CIRCLE        float64\n",
      "OBS_60_CNT_SOCIAL_CIRCLE        float64\n",
      "DEF_60_CNT_SOCIAL_CIRCLE        float64\n",
      "DAYS_LAST_PHONE_CHANGE          float64\n",
      "FLAG_DOCUMENT_2                   int64\n",
      "FLAG_DOCUMENT_3                   int64\n",
      "FLAG_DOCUMENT_4                   int64\n",
      "FLAG_DOCUMENT_5                   int64\n",
      "FLAG_DOCUMENT_6                   int64\n",
      "FLAG_DOCUMENT_7                   int64\n",
      "FLAG_DOCUMENT_8                   int64\n",
      "FLAG_DOCUMENT_9                   int64\n",
      "FLAG_DOCUMENT_10                  int64\n",
      "FLAG_DOCUMENT_11                  int64\n",
      "FLAG_DOCUMENT_12                  int64\n",
      "FLAG_DOCUMENT_13                  int64\n",
      "FLAG_DOCUMENT_14                  int64\n",
      "FLAG_DOCUMENT_15                  int64\n",
      "FLAG_DOCUMENT_16                  int64\n",
      "FLAG_DOCUMENT_17                  int64\n",
      "FLAG_DOCUMENT_18                  int64\n",
      "FLAG_DOCUMENT_19                  int64\n",
      "FLAG_DOCUMENT_20                  int64\n",
      "FLAG_DOCUMENT_21                  int64\n",
      "AMT_REQ_CREDIT_BUREAU_HOUR      float64\n",
      "AMT_REQ_CREDIT_BUREAU_DAY       float64\n",
      "AMT_REQ_CREDIT_BUREAU_WEEK      float64\n",
      "AMT_REQ_CREDIT_BUREAU_MON       float64\n",
      "AMT_REQ_CREDIT_BUREAU_QRT       float64\n",
      "AMT_REQ_CREDIT_BUREAU_YEAR      float64\n",
      "dtype: object\n"
     ]
    }
   ],
   "source": [
    "with pd.option_context('display.max_rows', None, 'display.max_columns', None):\n",
    "    print(traindata.dtypes)"
   ]
  },
  {
   "cell_type": "code",
   "execution_count": 6,
   "id": "6c96562e",
   "metadata": {
    "execution": {
     "iopub.execute_input": "2022-06-19T14:42:51.521156Z",
     "iopub.status.busy": "2022-06-19T14:42:51.520768Z",
     "iopub.status.idle": "2022-06-19T14:42:51.531115Z",
     "shell.execute_reply": "2022-06-19T14:42:51.530079Z"
    },
    "papermill": {
     "duration": 0.029917,
     "end_time": "2022-06-19T14:42:51.533392",
     "exception": false,
     "start_time": "2022-06-19T14:42:51.503475",
     "status": "completed"
    },
    "tags": []
   },
   "outputs": [
    {
     "data": {
      "text/plain": [
       "False"
      ]
     },
     "execution_count": 6,
     "metadata": {},
     "output_type": "execute_result"
    }
   ],
   "source": [
    "traindata[\"SK_ID_CURR\"].dtype == \"float\""
   ]
  },
  {
   "cell_type": "code",
   "execution_count": null,
   "id": "b6dce27c",
   "metadata": {
    "execution": {
     "iopub.execute_input": "2022-06-19T14:42:51.567360Z",
     "iopub.status.busy": "2022-06-19T14:42:51.566960Z",
     "iopub.status.idle": "2022-06-19T14:43:16.442031Z",
     "shell.execute_reply": "2022-06-19T14:43:16.440610Z"
    },
    "papermill": {
     "duration": 24.906985,
     "end_time": "2022-06-19T14:43:16.456571",
     "exception": false,
     "start_time": "2022-06-19T14:42:51.549586",
     "status": "completed"
    },
    "tags": []
   },
   "outputs": [],
   "source": [
    "fig, ax = plt.subplots(40,3)\n",
    "fig.set_size_inches(60,350)\n",
    "for i, col in enumerate(traindata.columns[2:]):\n",
    "    ax[i//3, i%3].set_title(col)\n",
    "    if traindata[col].dtype == \"int\" or traindata[col].dtype == \"float\":\n",
    "        ax[i//3, i%3].hist(traindata[col])\n",
    "    else:\n",
    "        traindata[col].value_counts().plot(kind=\"barh\", ax=ax[i//3, i%3])\n",
    "#         print(col)"
   ]
  },
  {
   "cell_type": "code",
   "execution_count": null,
   "id": "5462a02f",
   "metadata": {
    "execution": {
     "iopub.execute_input": "2022-06-19T14:43:16.515093Z",
     "iopub.status.busy": "2022-06-19T14:43:16.514687Z",
     "iopub.status.idle": "2022-06-19T14:44:18.425494Z",
     "shell.execute_reply": "2022-06-19T14:44:18.424307Z"
    },
    "papermill": {
     "duration": 62.044121,
     "end_time": "2022-06-19T14:44:18.528765",
     "exception": false,
     "start_time": "2022-06-19T14:43:16.484644",
     "status": "completed"
    },
    "tags": []
   },
   "outputs": [],
   "source": [
    "from matplotlib.pyplot import figure\n",
    "\n",
    "figure(figsize=(75, 81))\n",
    "sns.heatmap(traindata.iloc[:, 1:].corr(), annot=True, cmap = 'Reds')"
   ]
  },
  {
   "cell_type": "code",
   "execution_count": null,
   "id": "a56bc471",
   "metadata": {
    "execution": {
     "iopub.execute_input": "2022-06-19T14:44:18.668239Z",
     "iopub.status.busy": "2022-06-19T14:44:18.667081Z",
     "iopub.status.idle": "2022-06-19T14:44:28.462405Z",
     "shell.execute_reply": "2022-06-19T14:44:28.461564Z"
    },
    "papermill": {
     "duration": 9.868641,
     "end_time": "2022-06-19T14:44:28.465070",
     "exception": false,
     "start_time": "2022-06-19T14:44:18.596429",
     "status": "completed"
    },
    "tags": []
   },
   "outputs": [],
   "source": [
    "correlations = traindata.iloc[:, 1:].corr()"
   ]
  },
  {
   "cell_type": "markdown",
   "id": "37987d4e",
   "metadata": {
    "papermill": {
     "duration": 0.065437,
     "end_time": "2022-06-19T14:44:28.596647",
     "exception": false,
     "start_time": "2022-06-19T14:44:28.531210",
     "status": "completed"
    },
    "tags": []
   },
   "source": [
    "Choosing and deleting strongly correlated features"
   ]
  },
  {
   "cell_type": "code",
   "execution_count": null,
   "id": "866928c4",
   "metadata": {
    "execution": {
     "iopub.execute_input": "2022-06-19T14:44:28.730110Z",
     "iopub.status.busy": "2022-06-19T14:44:28.729390Z",
     "iopub.status.idle": "2022-06-19T14:44:28.972339Z",
     "shell.execute_reply": "2022-06-19T14:44:28.971018Z"
    },
    "papermill": {
     "duration": 0.315879,
     "end_time": "2022-06-19T14:44:28.977823",
     "exception": false,
     "start_time": "2022-06-19T14:44:28.661944",
     "status": "completed"
    },
    "tags": []
   },
   "outputs": [],
   "source": [
    "colarray = []\n",
    "for i in range(len(correlations)):\n",
    "    for j in range(i + 1, len(correlations)):\n",
    "        if correlations.iloc[i,j] > 0.9:\n",
    "            colarray.append(j)\n",
    "colarray"
   ]
  },
  {
   "cell_type": "code",
   "execution_count": null,
   "id": "5d8d3b1c",
   "metadata": {
    "execution": {
     "iopub.execute_input": "2022-06-19T14:44:29.110798Z",
     "iopub.status.busy": "2022-06-19T14:44:29.110388Z",
     "iopub.status.idle": "2022-06-19T14:44:29.116679Z",
     "shell.execute_reply": "2022-06-19T14:44:29.115853Z"
    },
    "papermill": {
     "duration": 0.075446,
     "end_time": "2022-06-19T14:44:29.118711",
     "exception": false,
     "start_time": "2022-06-19T14:44:29.043265",
     "status": "completed"
    },
    "tags": []
   },
   "outputs": [],
   "source": [
    "colarray = list(set(colarray))\n",
    "colarray"
   ]
  },
  {
   "cell_type": "code",
   "execution_count": null,
   "id": "b0d6b971",
   "metadata": {
    "execution": {
     "iopub.execute_input": "2022-06-19T14:44:29.251858Z",
     "iopub.status.busy": "2022-06-19T14:44:29.251435Z",
     "iopub.status.idle": "2022-06-19T14:44:29.257564Z",
     "shell.execute_reply": "2022-06-19T14:44:29.256847Z"
    },
    "papermill": {
     "duration": 0.075873,
     "end_time": "2022-06-19T14:44:29.259869",
     "exception": false,
     "start_time": "2022-06-19T14:44:29.183996",
     "status": "completed"
    },
    "tags": []
   },
   "outputs": [],
   "source": [
    "colstodelete = list(correlations.columns[colarray])\n",
    "colstodelete"
   ]
  },
  {
   "cell_type": "code",
   "execution_count": null,
   "id": "1e395c31",
   "metadata": {
    "execution": {
     "iopub.execute_input": "2022-06-19T14:44:29.394143Z",
     "iopub.status.busy": "2022-06-19T14:44:29.393758Z",
     "iopub.status.idle": "2022-06-19T14:44:29.397808Z",
     "shell.execute_reply": "2022-06-19T14:44:29.396916Z"
    },
    "papermill": {
     "duration": 0.07373,
     "end_time": "2022-06-19T14:44:29.399931",
     "exception": false,
     "start_time": "2022-06-19T14:44:29.326201",
     "status": "completed"
    },
    "tags": []
   },
   "outputs": [],
   "source": [
    "colstodelete.append(\"SK_ID_CURR\")"
   ]
  },
  {
   "cell_type": "code",
   "execution_count": null,
   "id": "ef6f809b",
   "metadata": {
    "execution": {
     "iopub.execute_input": "2022-06-19T14:44:29.534639Z",
     "iopub.status.busy": "2022-06-19T14:44:29.534041Z",
     "iopub.status.idle": "2022-06-19T14:44:29.542246Z",
     "shell.execute_reply": "2022-06-19T14:44:29.541279Z"
    },
    "papermill": {
     "duration": 0.078162,
     "end_time": "2022-06-19T14:44:29.544253",
     "exception": false,
     "start_time": "2022-06-19T14:44:29.466091",
     "status": "completed"
    },
    "tags": []
   },
   "outputs": [],
   "source": [
    "testids = testdata[\"SK_ID_CURR\"]\n",
    "testids"
   ]
  },
  {
   "cell_type": "code",
   "execution_count": null,
   "id": "9c9fbe06",
   "metadata": {
    "execution": {
     "iopub.execute_input": "2022-06-19T14:44:29.678595Z",
     "iopub.status.busy": "2022-06-19T14:44:29.678017Z",
     "iopub.status.idle": "2022-06-19T14:44:29.790691Z",
     "shell.execute_reply": "2022-06-19T14:44:29.789655Z"
    },
    "papermill": {
     "duration": 0.182819,
     "end_time": "2022-06-19T14:44:29.793259",
     "exception": false,
     "start_time": "2022-06-19T14:44:29.610440",
     "status": "completed"
    },
    "tags": []
   },
   "outputs": [],
   "source": [
    "traindata = traindata.drop(colstodelete, axis=1)\n",
    "testdata = testdata.drop(colstodelete, axis=1)"
   ]
  },
  {
   "cell_type": "markdown",
   "id": "c10c6e2b",
   "metadata": {
    "papermill": {
     "duration": 0.065197,
     "end_time": "2022-06-19T14:44:29.925024",
     "exception": false,
     "start_time": "2022-06-19T14:44:29.859827",
     "status": "completed"
    },
    "tags": []
   },
   "source": [
    "Missing values"
   ]
  },
  {
   "cell_type": "code",
   "execution_count": null,
   "id": "f4dfb7ba",
   "metadata": {
    "execution": {
     "iopub.execute_input": "2022-06-19T14:44:30.058519Z",
     "iopub.status.busy": "2022-06-19T14:44:30.057903Z",
     "iopub.status.idle": "2022-06-19T14:44:30.519683Z",
     "shell.execute_reply": "2022-06-19T14:44:30.518690Z"
    },
    "papermill": {
     "duration": 0.531972,
     "end_time": "2022-06-19T14:44:30.522697",
     "exception": false,
     "start_time": "2022-06-19T14:44:29.990725",
     "status": "completed"
    },
    "tags": []
   },
   "outputs": [],
   "source": [
    "with pd.option_context('display.max_rows', None, 'display.max_columns', None):\n",
    "    print(traindata.isnull().sum())"
   ]
  },
  {
   "cell_type": "code",
   "execution_count": null,
   "id": "cc8f8645",
   "metadata": {
    "execution": {
     "iopub.execute_input": "2022-06-19T14:44:30.656919Z",
     "iopub.status.busy": "2022-06-19T14:44:30.656308Z",
     "iopub.status.idle": "2022-06-19T14:44:30.737876Z",
     "shell.execute_reply": "2022-06-19T14:44:30.736502Z"
    },
    "papermill": {
     "duration": 0.152342,
     "end_time": "2022-06-19T14:44:30.740697",
     "exception": false,
     "start_time": "2022-06-19T14:44:30.588355",
     "status": "completed"
    },
    "tags": []
   },
   "outputs": [],
   "source": [
    "with pd.option_context('display.max_rows', None, 'display.max_columns', None):\n",
    "    print(testdata.isnull().sum())"
   ]
  },
  {
   "cell_type": "code",
   "execution_count": null,
   "id": "2c8f81a2",
   "metadata": {
    "execution": {
     "iopub.execute_input": "2022-06-19T14:44:30.897894Z",
     "iopub.status.busy": "2022-06-19T14:44:30.897444Z",
     "iopub.status.idle": "2022-06-19T14:44:30.903787Z",
     "shell.execute_reply": "2022-06-19T14:44:30.902631Z"
    },
    "papermill": {
     "duration": 0.099517,
     "end_time": "2022-06-19T14:44:30.906441",
     "exception": false,
     "start_time": "2022-06-19T14:44:30.806924",
     "status": "completed"
    },
    "tags": []
   },
   "outputs": [],
   "source": [
    "catcols = []"
   ]
  },
  {
   "cell_type": "code",
   "execution_count": null,
   "id": "8e801ef4",
   "metadata": {
    "execution": {
     "iopub.execute_input": "2022-06-19T14:44:31.056745Z",
     "iopub.status.busy": "2022-06-19T14:44:31.055376Z",
     "iopub.status.idle": "2022-06-19T14:44:35.789058Z",
     "shell.execute_reply": "2022-06-19T14:44:35.787921Z"
    },
    "papermill": {
     "duration": 4.809395,
     "end_time": "2022-06-19T14:44:35.791799",
     "exception": false,
     "start_time": "2022-06-19T14:44:30.982404",
     "status": "completed"
    },
    "tags": []
   },
   "outputs": [],
   "source": [
    "for i, c in enumerate(traindata.columns):\n",
    "    nullcount = traindata.loc[:,c].isnull().sum()\n",
    "    if nullcount > 100000:\n",
    "        if traindata[c].dtype == \"O\":\n",
    "            traindata[c] = traindata[c].fillna(\"na\")\n",
    "            testdata[c] = testdata[c].fillna(\"na\")\n",
    "            catcols.append(c)\n",
    "        else:\n",
    "            traindata = traindata.drop(c, axis = 1)\n",
    "            testdata = testdata.drop(c, axis = 1)\n",
    "    else:\n",
    "        if traindata[c].dtype == \"O\":\n",
    "            traindata[c] = traindata[c].fillna(method='ffill').fillna(traindata[c].mode())\n",
    "            testdata[c] = testdata[c].fillna(method='ffill').fillna(traindata[c].mode())\n",
    "            catcols.append(c)\n",
    "        else:\n",
    "            traindata[c] = traindata[c].fillna(traindata[c].median())\n",
    "            if c in testdata.columns:\n",
    "                testdata[c] = testdata[c].fillna(traindata[c].median())"
   ]
  },
  {
   "cell_type": "code",
   "execution_count": null,
   "id": "9fc06527",
   "metadata": {
    "execution": {
     "iopub.execute_input": "2022-06-19T14:44:35.928791Z",
     "iopub.status.busy": "2022-06-19T14:44:35.928378Z",
     "iopub.status.idle": "2022-06-19T14:44:37.570875Z",
     "shell.execute_reply": "2022-06-19T14:44:37.569663Z"
    },
    "papermill": {
     "duration": 1.716193,
     "end_time": "2022-06-19T14:44:37.574614",
     "exception": false,
     "start_time": "2022-06-19T14:44:35.858421",
     "status": "completed"
    },
    "tags": []
   },
   "outputs": [],
   "source": [
    "with pd.option_context('display.max_rows', None, 'display.max_columns', None):\n",
    "    print(traindata.describe(include='all'))"
   ]
  },
  {
   "cell_type": "markdown",
   "id": "57da4ed6",
   "metadata": {
    "papermill": {
     "duration": 0.067194,
     "end_time": "2022-06-19T14:44:37.709336",
     "exception": false,
     "start_time": "2022-06-19T14:44:37.642142",
     "status": "completed"
    },
    "tags": []
   },
   "source": [
    "One-hot encoding of categorical features"
   ]
  },
  {
   "cell_type": "code",
   "execution_count": null,
   "id": "184b838d",
   "metadata": {
    "execution": {
     "iopub.execute_input": "2022-06-19T14:44:37.845879Z",
     "iopub.status.busy": "2022-06-19T14:44:37.845420Z",
     "iopub.status.idle": "2022-06-19T14:44:37.986134Z",
     "shell.execute_reply": "2022-06-19T14:44:37.985000Z"
    },
    "papermill": {
     "duration": 0.211787,
     "end_time": "2022-06-19T14:44:37.988714",
     "exception": false,
     "start_time": "2022-06-19T14:44:37.776927",
     "status": "completed"
    },
    "tags": []
   },
   "outputs": [],
   "source": [
    "from sklearn.preprocessing import OneHotEncoder"
   ]
  },
  {
   "cell_type": "code",
   "execution_count": null,
   "id": "afc4ec18",
   "metadata": {
    "execution": {
     "iopub.execute_input": "2022-06-19T14:44:38.125466Z",
     "iopub.status.busy": "2022-06-19T14:44:38.124743Z",
     "iopub.status.idle": "2022-06-19T14:44:42.943496Z",
     "shell.execute_reply": "2022-06-19T14:44:42.942354Z"
    },
    "papermill": {
     "duration": 4.889889,
     "end_time": "2022-06-19T14:44:42.945863",
     "exception": false,
     "start_time": "2022-06-19T14:44:38.055974",
     "status": "completed"
    },
    "tags": []
   },
   "outputs": [],
   "source": [
    "enc = OneHotEncoder(handle_unknown='ignore', drop='if_binary')\n",
    "newcatcols = []\n",
    "for c in catcols:\n",
    "    unique = traindata[c].unique()\n",
    "    if (len(unique)<=2):\n",
    "        newcatcols.append(c+\"_enc\")\n",
    "    else:\n",
    "        for u in unique:\n",
    "            newcatcols.append(c + \"_\" + u)\n",
    "traindata[newcatcols] = pd.DataFrame(enc.fit_transform(traindata[catcols]).toarray(), columns=newcatcols)\n",
    "testdata[newcatcols] = pd.DataFrame(enc.transform(testdata[catcols]).toarray(), columns=newcatcols)"
   ]
  },
  {
   "cell_type": "code",
   "execution_count": null,
   "id": "fef43dc1",
   "metadata": {
    "execution": {
     "iopub.execute_input": "2022-06-19T14:44:43.083191Z",
     "iopub.status.busy": "2022-06-19T14:44:43.082435Z",
     "iopub.status.idle": "2022-06-19T14:44:43.312330Z",
     "shell.execute_reply": "2022-06-19T14:44:43.311268Z"
    },
    "papermill": {
     "duration": 0.303509,
     "end_time": "2022-06-19T14:44:43.316320",
     "exception": false,
     "start_time": "2022-06-19T14:44:43.012811",
     "status": "completed"
    },
    "tags": []
   },
   "outputs": [],
   "source": [
    "pd.options.display.max_columns = None\n",
    "traindata.head()"
   ]
  },
  {
   "cell_type": "code",
   "execution_count": null,
   "id": "08e330db",
   "metadata": {
    "execution": {
     "iopub.execute_input": "2022-06-19T14:44:43.458273Z",
     "iopub.status.busy": "2022-06-19T14:44:43.457491Z",
     "iopub.status.idle": "2022-06-19T14:44:44.064301Z",
     "shell.execute_reply": "2022-06-19T14:44:44.063142Z"
    },
    "papermill": {
     "duration": 0.681833,
     "end_time": "2022-06-19T14:44:44.067854",
     "exception": false,
     "start_time": "2022-06-19T14:44:43.386021",
     "status": "completed"
    },
    "tags": []
   },
   "outputs": [],
   "source": [
    "traindata = traindata.drop(catcols, axis=1)\n",
    "testdata = testdata.drop(catcols, axis=1)"
   ]
  },
  {
   "cell_type": "code",
   "execution_count": null,
   "id": "f37b6c15",
   "metadata": {
    "execution": {
     "iopub.execute_input": "2022-06-19T14:44:44.226148Z",
     "iopub.status.busy": "2022-06-19T14:44:44.225198Z",
     "iopub.status.idle": "2022-06-19T14:44:44.440440Z",
     "shell.execute_reply": "2022-06-19T14:44:44.439323Z"
    },
    "papermill": {
     "duration": 0.290602,
     "end_time": "2022-06-19T14:44:44.444206",
     "exception": false,
     "start_time": "2022-06-19T14:44:44.153604",
     "status": "completed"
    },
    "tags": []
   },
   "outputs": [],
   "source": [
    "traindata.head()"
   ]
  },
  {
   "cell_type": "markdown",
   "id": "4ba68acf",
   "metadata": {
    "papermill": {
     "duration": 0.072574,
     "end_time": "2022-06-19T14:44:44.592195",
     "exception": false,
     "start_time": "2022-06-19T14:44:44.519621",
     "status": "completed"
    },
    "tags": []
   },
   "source": [
    "Normilizing features"
   ]
  },
  {
   "cell_type": "code",
   "execution_count": null,
   "id": "a0bbae67",
   "metadata": {
    "execution": {
     "iopub.execute_input": "2022-06-19T14:44:44.740687Z",
     "iopub.status.busy": "2022-06-19T14:44:44.740298Z",
     "iopub.status.idle": "2022-06-19T14:44:44.744926Z",
     "shell.execute_reply": "2022-06-19T14:44:44.743930Z"
    },
    "papermill": {
     "duration": 0.081558,
     "end_time": "2022-06-19T14:44:44.746897",
     "exception": false,
     "start_time": "2022-06-19T14:44:44.665339",
     "status": "completed"
    },
    "tags": []
   },
   "outputs": [],
   "source": [
    "from sklearn.preprocessing import StandardScaler"
   ]
  },
  {
   "cell_type": "code",
   "execution_count": null,
   "id": "2ba91fb5",
   "metadata": {
    "execution": {
     "iopub.execute_input": "2022-06-19T14:44:44.894140Z",
     "iopub.status.busy": "2022-06-19T14:44:44.893735Z",
     "iopub.status.idle": "2022-06-19T14:44:45.943689Z",
     "shell.execute_reply": "2022-06-19T14:44:45.942606Z"
    },
    "papermill": {
     "duration": 1.127723,
     "end_time": "2022-06-19T14:44:45.946396",
     "exception": false,
     "start_time": "2022-06-19T14:44:44.818673",
     "status": "completed"
    },
    "tags": []
   },
   "outputs": [],
   "source": [
    "for c in traindata.columns:\n",
    "    if c not in newcatcols and c != \"TARGET\":\n",
    "        scaler = StandardScaler()\n",
    "        scaler = scaler.fit(traindata[c].values.reshape(-1, 1))\n",
    "        traindata[c] = scaler.transform(traindata[c].values.reshape(-1, 1))\n",
    "        testdata[c] = scaler.transform(testdata[c].values.reshape(-1, 1))"
   ]
  },
  {
   "cell_type": "markdown",
   "id": "e1ab8d2a",
   "metadata": {
    "papermill": {
     "duration": 0.074332,
     "end_time": "2022-06-19T14:44:46.093398",
     "exception": false,
     "start_time": "2022-06-19T14:44:46.019066",
     "status": "completed"
    },
    "tags": []
   },
   "source": [
    "Sets split"
   ]
  },
  {
   "cell_type": "code",
   "execution_count": null,
   "id": "e0e3514c",
   "metadata": {
    "execution": {
     "iopub.execute_input": "2022-06-19T14:44:46.244854Z",
     "iopub.status.busy": "2022-06-19T14:44:46.244428Z",
     "iopub.status.idle": "2022-06-19T14:44:46.305813Z",
     "shell.execute_reply": "2022-06-19T14:44:46.304931Z"
    },
    "papermill": {
     "duration": 0.140156,
     "end_time": "2022-06-19T14:44:46.308064",
     "exception": false,
     "start_time": "2022-06-19T14:44:46.167908",
     "status": "completed"
    },
    "tags": []
   },
   "outputs": [],
   "source": [
    "from sklearn.model_selection import train_test_split"
   ]
  },
  {
   "cell_type": "code",
   "execution_count": null,
   "id": "c6ba3d5b",
   "metadata": {
    "execution": {
     "iopub.execute_input": "2022-06-19T14:44:46.457726Z",
     "iopub.status.busy": "2022-06-19T14:44:46.456303Z",
     "iopub.status.idle": "2022-06-19T14:44:47.349721Z",
     "shell.execute_reply": "2022-06-19T14:44:47.348343Z"
    },
    "papermill": {
     "duration": 0.971294,
     "end_time": "2022-06-19T14:44:47.352342",
     "exception": false,
     "start_time": "2022-06-19T14:44:46.381048",
     "status": "completed"
    },
    "tags": []
   },
   "outputs": [],
   "source": [
    "traindata, valdata = train_test_split(traindata, test_size=0.05)"
   ]
  },
  {
   "cell_type": "code",
   "execution_count": null,
   "id": "3b987fd8",
   "metadata": {
    "execution": {
     "iopub.execute_input": "2022-06-19T14:44:47.499164Z",
     "iopub.status.busy": "2022-06-19T14:44:47.498763Z",
     "iopub.status.idle": "2022-06-19T14:44:47.679604Z",
     "shell.execute_reply": "2022-06-19T14:44:47.678359Z"
    },
    "papermill": {
     "duration": 0.257005,
     "end_time": "2022-06-19T14:44:47.681960",
     "exception": false,
     "start_time": "2022-06-19T14:44:47.424955",
     "status": "completed"
    },
    "tags": []
   },
   "outputs": [],
   "source": [
    "X_train, y_train = traindata.drop(\"TARGET\", axis=1), traindata[\"TARGET\"]\n",
    "X_val, y_val = valdata.drop(\"TARGET\", axis=1), valdata[\"TARGET\"]\n",
    "X_test = testdata"
   ]
  },
  {
   "cell_type": "markdown",
   "id": "b74e8162",
   "metadata": {
    "papermill": {
     "duration": 0.071959,
     "end_time": "2022-06-19T14:44:47.826744",
     "exception": false,
     "start_time": "2022-06-19T14:44:47.754785",
     "status": "completed"
    },
    "tags": []
   },
   "source": [
    "Use Decision tree to predict probabilities for validation set. Find and use roc_auc_score metric to evaluate this decision"
   ]
  },
  {
   "cell_type": "code",
   "execution_count": null,
   "id": "dd89bb47",
   "metadata": {
    "execution": {
     "iopub.execute_input": "2022-06-19T14:44:47.973850Z",
     "iopub.status.busy": "2022-06-19T14:44:47.973417Z",
     "iopub.status.idle": "2022-06-19T14:44:48.127711Z",
     "shell.execute_reply": "2022-06-19T14:44:48.126506Z"
    },
    "papermill": {
     "duration": 0.231397,
     "end_time": "2022-06-19T14:44:48.130427",
     "exception": false,
     "start_time": "2022-06-19T14:44:47.899030",
     "status": "completed"
    },
    "tags": []
   },
   "outputs": [],
   "source": [
    "from sklearn import tree\n",
    "# clf = tree.DecisionTreeClassifier()\n",
    "# clf = clf.fit(X_train, y_train)\n",
    "# y_val_pred = clf.predict_proba(X_val)[:, 1]"
   ]
  },
  {
   "cell_type": "code",
   "execution_count": null,
   "id": "fdb736b7",
   "metadata": {
    "execution": {
     "iopub.execute_input": "2022-06-19T14:44:48.603083Z",
     "iopub.status.busy": "2022-06-19T14:44:48.602638Z",
     "iopub.status.idle": "2022-06-19T14:44:48.608239Z",
     "shell.execute_reply": "2022-06-19T14:44:48.607017Z"
    },
    "papermill": {
     "duration": 0.406187,
     "end_time": "2022-06-19T14:44:48.610367",
     "exception": false,
     "start_time": "2022-06-19T14:44:48.204180",
     "status": "completed"
    },
    "tags": []
   },
   "outputs": [],
   "source": [
    "from sklearn.metrics import roc_auc_score\n",
    "# roc_auc_score(y_val, y_val_pred)"
   ]
  },
  {
   "cell_type": "code",
   "execution_count": null,
   "id": "7a418121",
   "metadata": {
    "execution": {
     "iopub.execute_input": "2022-06-19T14:44:48.758210Z",
     "iopub.status.busy": "2022-06-19T14:44:48.757602Z",
     "iopub.status.idle": "2022-06-19T14:44:48.762795Z",
     "shell.execute_reply": "2022-06-19T14:44:48.761761Z"
    },
    "papermill": {
     "duration": 0.082154,
     "end_time": "2022-06-19T14:44:48.765072",
     "exception": false,
     "start_time": "2022-06-19T14:44:48.682918",
     "status": "completed"
    },
    "tags": []
   },
   "outputs": [],
   "source": [
    "from sklearn.linear_model import LogisticRegression\n",
    "# clf = LogisticRegression(solver=\"liblinear\")\n",
    "# clf = clf.fit(X_train, y_train)\n",
    "# y_val_pred = clf.predict_proba(X_val)[:, 1]\n",
    "# roc_auc_score(y_val, y_val_pred)"
   ]
  },
  {
   "cell_type": "code",
   "execution_count": null,
   "id": "f9cd2737",
   "metadata": {
    "execution": {
     "iopub.execute_input": "2022-06-19T14:44:48.912314Z",
     "iopub.status.busy": "2022-06-19T14:44:48.911917Z",
     "iopub.status.idle": "2022-06-19T14:44:48.991986Z",
     "shell.execute_reply": "2022-06-19T14:44:48.991056Z"
    },
    "papermill": {
     "duration": 0.156862,
     "end_time": "2022-06-19T14:44:48.994474",
     "exception": false,
     "start_time": "2022-06-19T14:44:48.837612",
     "status": "completed"
    },
    "tags": []
   },
   "outputs": [],
   "source": [
    "from sklearn.svm import SVC\n",
    "from sklearn.linear_model import SGDClassifier\n",
    "from sklearn.neighbors import KNeighborsClassifier\n",
    "from sklearn.gaussian_process import GaussianProcessClassifier\n",
    "from sklearn.gaussian_process.kernels import RBF\n",
    "from sklearn.naive_bayes import GaussianNB\n",
    "from sklearn.ensemble import AdaBoostClassifier\n",
    "from sklearn.ensemble import RandomForestClassifier"
   ]
  },
  {
   "cell_type": "code",
   "execution_count": null,
   "id": "67b523bd",
   "metadata": {
    "execution": {
     "iopub.execute_input": "2022-06-19T14:44:49.141657Z",
     "iopub.status.busy": "2022-06-19T14:44:49.141037Z",
     "iopub.status.idle": "2022-06-19T14:44:49.148030Z",
     "shell.execute_reply": "2022-06-19T14:44:49.146958Z"
    },
    "papermill": {
     "duration": 0.083232,
     "end_time": "2022-06-19T14:44:49.150004",
     "exception": false,
     "start_time": "2022-06-19T14:44:49.066772",
     "status": "completed"
    },
    "tags": []
   },
   "outputs": [],
   "source": [
    "classifiers = [\n",
    "    (\"Tree\", tree.DecisionTreeClassifier()), \n",
    "    (\"Log regression\", LogisticRegression(solver=\"liblinear\")),\n",
    "#     (\"SVC lin\", SVC(gamma='auto', kernel = 'linear')),\n",
    "#     (\"SVC poly\", SVC(gamma='auto', kernel = 'poly')),\n",
    "#     (\"SVC rbf\", SVC(gamma='auto', kernel = 'rbf')),\n",
    "    (\"SGD\", SGDClassifier(penalty=\"l2\", loss=\"log\")),\n",
    "    (\"KNN\", KNeighborsClassifier(n_neighbors=3)),\n",
    "    #(\"GPC\", GaussianProcessClassifier(kernel=RBF(1.0))),\n",
    "    (\"GNB\", GaussianNB()),\n",
    "    (\"Ada\", AdaBoostClassifier(n_estimators=100)),\n",
    "    (\"RandFor\", RandomForestClassifier(n_estimators=10))\n",
    "]"
   ]
  },
  {
   "cell_type": "code",
   "execution_count": null,
   "id": "9b343c70",
   "metadata": {
    "execution": {
     "iopub.execute_input": "2022-06-19T14:44:49.298381Z",
     "iopub.status.busy": "2022-06-19T14:44:49.297814Z",
     "iopub.status.idle": "2022-06-19T14:45:57.056596Z",
     "shell.execute_reply": "2022-06-19T14:45:57.055308Z"
    },
    "papermill": {
     "duration": 67.836204,
     "end_time": "2022-06-19T14:45:57.058701",
     "exception": false,
     "start_time": "2022-06-19T14:44:49.222497",
     "status": "completed"
    },
    "tags": []
   },
   "outputs": [],
   "source": [
    "for classname, classifier in classifiers:\n",
    "    classifier = classifier.fit(X_train[:40000], y_train[:40000])\n",
    "    y_train_pred = classifier.predict_proba(X_train[:40000])[:,1]\n",
    "    y_val_pred = classifier.predict_proba(X_val)[:,1]\n",
    "    print(classname + \": Train score = \" \n",
    "          + str(roc_auc_score(y_train[:40000], y_train_pred).round(5)) + \", val score = \" \n",
    "          + str(roc_auc_score(y_val, y_val_pred).round(5)))\n",
    "    "
   ]
  },
  {
   "cell_type": "code",
   "execution_count": null,
   "id": "ff42bcef",
   "metadata": {
    "execution": {
     "iopub.execute_input": "2022-06-19T14:45:57.208592Z",
     "iopub.status.busy": "2022-06-19T14:45:57.208149Z",
     "iopub.status.idle": "2022-06-19T14:45:57.213085Z",
     "shell.execute_reply": "2022-06-19T14:45:57.212044Z"
    },
    "papermill": {
     "duration": 0.082164,
     "end_time": "2022-06-19T14:45:57.215352",
     "exception": false,
     "start_time": "2022-06-19T14:45:57.133188",
     "status": "completed"
    },
    "tags": []
   },
   "outputs": [],
   "source": [
    "from sklearn.model_selection import RandomizedSearchCV\n",
    "from sklearn.utils.fixes import loguniform\n",
    "from scipy.stats import uniform"
   ]
  },
  {
   "cell_type": "code",
   "execution_count": null,
   "id": "7c841af0",
   "metadata": {
    "execution": {
     "iopub.execute_input": "2022-06-19T14:45:57.361278Z",
     "iopub.status.busy": "2022-06-19T14:45:57.360699Z",
     "iopub.status.idle": "2022-06-19T14:45:57.367971Z",
     "shell.execute_reply": "2022-06-19T14:45:57.367307Z"
    },
    "papermill": {
     "duration": 0.082901,
     "end_time": "2022-06-19T14:45:57.369993",
     "exception": false,
     "start_time": "2022-06-19T14:45:57.287092",
     "status": "completed"
    },
    "tags": []
   },
   "outputs": [],
   "source": [
    "def report(results, n_top=3):\n",
    "    for i in range(1, n_top + 1):\n",
    "        candidates = np.flatnonzero(results[\"rank_test_score\"] == i)\n",
    "        for candidate in candidates:\n",
    "            print(\"Model with rank: {0}\".format(i))\n",
    "            print(\n",
    "                \"Mean validation score: {0:.3f} (std: {1:.3f})\".format(\n",
    "                    results[\"mean_test_score\"][candidate],\n",
    "                    results[\"std_test_score\"][candidate],\n",
    "                )\n",
    "            )\n",
    "            print(\"Parameters: {0}\".format(results[\"params\"][candidate]))\n",
    "            print(\"\")"
   ]
  },
  {
   "cell_type": "code",
   "execution_count": null,
   "id": "ddd1435c",
   "metadata": {
    "execution": {
     "iopub.execute_input": "2022-06-19T14:45:57.515959Z",
     "iopub.status.busy": "2022-06-19T14:45:57.515490Z",
     "iopub.status.idle": "2022-06-19T17:39:09.269526Z",
     "shell.execute_reply": "2022-06-19T17:39:09.267120Z"
    },
    "papermill": {
     "duration": 10391.910862,
     "end_time": "2022-06-19T17:39:09.352780",
     "exception": false,
     "start_time": "2022-06-19T14:45:57.441918",
     "status": "completed"
    },
    "tags": []
   },
   "outputs": [],
   "source": [
    "clf = LogisticRegression(max_iter=300)\n",
    "\n",
    "param_dist = {\n",
    "    \"penalty\": [\"l1\", \"l2\", \"elasticnet\"],\n",
    "    \"C\": loguniform(1e-3, 1e1),\n",
    "    \"solver\": [\"liblinear\", \"saga\"]\n",
    "}\n",
    "\n",
    "random_search = RandomizedSearchCV(\n",
    "    clf, param_distributions=param_dist, n_iter=20, scoring=\"roc_auc\"\n",
    ")\n",
    "\n",
    "random_search.fit(X_train, y_train)\n",
    "\n",
    "report(random_search.cv_results_)"
   ]
  },
  {
   "cell_type": "code",
   "execution_count": null,
   "id": "36a7d0b5",
   "metadata": {
    "execution": {
     "iopub.execute_input": "2022-06-19T17:39:09.514874Z",
     "iopub.status.busy": "2022-06-19T17:39:09.514096Z",
     "iopub.status.idle": "2022-06-19T18:56:20.504510Z",
     "shell.execute_reply": "2022-06-19T18:56:20.503307Z"
    },
    "papermill": {
     "duration": 4631.15792,
     "end_time": "2022-06-19T18:56:20.591958",
     "exception": false,
     "start_time": "2022-06-19T17:39:09.434038",
     "status": "completed"
    },
    "tags": []
   },
   "outputs": [],
   "source": [
    "clf = AdaBoostClassifier()\n",
    "\n",
    "param_dist = {\n",
    "    \"n_estimators\": list(range(40, 200)),\n",
    "    \"learning_rate\": loguniform(0.01, 1.0),\n",
    "    \"algorithm\": ['SAMME', 'SAMME.R']\n",
    "}\n",
    "\n",
    "random_search = RandomizedSearchCV(\n",
    "    clf, param_distributions=param_dist, n_iter=10, scoring=\"roc_auc\"\n",
    ")\n",
    "\n",
    "random_search.fit(X_train, y_train)\n",
    "\n",
    "report(random_search.cv_results_)"
   ]
  },
  {
   "cell_type": "code",
   "execution_count": null,
   "id": "b97aa45f",
   "metadata": {
    "execution": {
     "iopub.execute_input": "2022-06-19T18:56:20.752286Z",
     "iopub.status.busy": "2022-06-19T18:56:20.751575Z",
     "iopub.status.idle": "2022-06-19T20:08:47.044638Z",
     "shell.execute_reply": "2022-06-19T20:08:47.043474Z"
    },
    "papermill": {
     "duration": 4346.451709,
     "end_time": "2022-06-19T20:08:47.125325",
     "exception": false,
     "start_time": "2022-06-19T18:56:20.673616",
     "status": "completed"
    },
    "tags": []
   },
   "outputs": [],
   "source": [
    "clf = SGDClassifier()\n",
    "\n",
    "param_dist = {\n",
    "    \"loss\": ['hinge', 'log_loss', 'modified_huber', 'squared_hinge', 'perceptron', 'squared_error', 'huber', 'epsilon_insensitive', 'squared_epsilon_insensitive'],\n",
    "    \"penalty\":['l2', 'l1', 'elasticnet'],\n",
    "    \"alpha\": loguniform(1e-6, 1e-2),\n",
    "    \"l1_ratio\": loguniform(0.1, 0.3),\n",
    "    \"epsilon\":loguniform(1e-2, 0.3),\n",
    "    \"learning_rate\": ['optimal','invscaling', 'adaptive'],\n",
    "    \"eta0\": loguniform(1e-4, 1.0)\n",
    "}\n",
    "\n",
    "random_search = RandomizedSearchCV(\n",
    "    clf, param_distributions=param_dist, n_iter=20, scoring=\"roc_auc\"\n",
    ")\n",
    "\n",
    "random_search.fit(X_train, y_train)\n",
    "\n",
    "report(random_search.cv_results_)"
   ]
  },
  {
   "cell_type": "code",
   "execution_count": null,
   "id": "090267bf",
   "metadata": {
    "execution": {
     "iopub.execute_input": "2022-06-19T20:08:47.285818Z",
     "iopub.status.busy": "2022-06-19T20:08:47.285384Z",
     "iopub.status.idle": "2022-06-19T20:10:55.914603Z",
     "shell.execute_reply": "2022-06-19T20:10:55.913804Z"
    },
    "papermill": {
     "duration": 128.79126,
     "end_time": "2022-06-19T20:10:55.998127",
     "exception": false,
     "start_time": "2022-06-19T20:08:47.206867",
     "status": "completed"
    },
    "tags": []
   },
   "outputs": [],
   "source": [
    "classifier = AdaBoostClassifier(n_estimators= 101, learning_rate= 0.82792, algorithm= 'SAMME.R')\n",
    "classifier = classifier.fit(X_train, y_train)\n",
    "y_train_pred = classifier.predict_proba(X_train)[:,1]\n",
    "y_val_pred = classifier.predict_proba(X_val)[:,1]\n",
    "print(\"Train score = \" \n",
    "      + str(roc_auc_score(y_train, y_train_pred).round(5)) + \", val score = \" \n",
    "      + str(roc_auc_score(y_val, y_val_pred).round(5)))"
   ]
  },
  {
   "cell_type": "code",
   "execution_count": null,
   "id": "abab3c65",
   "metadata": {
    "execution": {
     "iopub.execute_input": "2022-06-19T20:10:56.155280Z",
     "iopub.status.busy": "2022-06-19T20:10:56.154857Z",
     "iopub.status.idle": "2022-06-19T20:10:59.124496Z",
     "shell.execute_reply": "2022-06-19T20:10:59.123310Z"
    },
    "papermill": {
     "duration": 3.05009,
     "end_time": "2022-06-19T20:10:59.126963",
     "exception": false,
     "start_time": "2022-06-19T20:10:56.076873",
     "status": "completed"
    },
    "tags": []
   },
   "outputs": [],
   "source": [
    "y_test_pred = classifier.predict_proba(X_test)[:,1]\n",
    "y_test_pred"
   ]
  },
  {
   "cell_type": "code",
   "execution_count": null,
   "id": "f7d5d90b",
   "metadata": {
    "execution": {
     "iopub.execute_input": "2022-06-19T20:10:59.291976Z",
     "iopub.status.busy": "2022-06-19T20:10:59.291009Z",
     "iopub.status.idle": "2022-06-19T20:10:59.314716Z",
     "shell.execute_reply": "2022-06-19T20:10:59.313620Z"
    },
    "papermill": {
     "duration": 0.109514,
     "end_time": "2022-06-19T20:10:59.316921",
     "exception": false,
     "start_time": "2022-06-19T20:10:59.207407",
     "status": "completed"
    },
    "tags": []
   },
   "outputs": [],
   "source": [
    "result = pd.DataFrame({\"SK_ID_CURR\": testids, \"TARGET\": y_test_pred})\n",
    "result"
   ]
  },
  {
   "cell_type": "code",
   "execution_count": null,
   "id": "fc33bf44",
   "metadata": {
    "execution": {
     "iopub.execute_input": "2022-06-19T20:10:59.471905Z",
     "iopub.status.busy": "2022-06-19T20:10:59.471166Z",
     "iopub.status.idle": "2022-06-19T20:10:59.643279Z",
     "shell.execute_reply": "2022-06-19T20:10:59.641951Z"
    },
    "papermill": {
     "duration": 0.252913,
     "end_time": "2022-06-19T20:10:59.646320",
     "exception": false,
     "start_time": "2022-06-19T20:10:59.393407",
     "status": "completed"
    },
    "tags": []
   },
   "outputs": [],
   "source": [
    "result.to_csv(\"/kaggle/working/ada1.csv\", index=False)"
   ]
  },
  {
   "cell_type": "markdown",
   "id": "d8cc05be",
   "metadata": {
    "papermill": {
     "duration": 0.076775,
     "end_time": "2022-06-19T20:10:59.800172",
     "exception": false,
     "start_time": "2022-06-19T20:10:59.723397",
     "status": "completed"
    },
    "tags": []
   },
   "source": [
    "My test score: 0.72560"
   ]
  }
 ],
 "metadata": {
  "kernelspec": {
   "display_name": "Python 3 (ipykernel)",
   "language": "python",
   "name": "python3"
  },
  "language_info": {
   "codemirror_mode": {
    "name": "ipython",
    "version": 3
   },
   "file_extension": ".py",
   "mimetype": "text/x-python",
   "name": "python",
   "nbconvert_exporter": "python",
   "pygments_lexer": "ipython3",
   "version": "3.11.2"
  },
  "papermill": {
   "default_parameters": {},
   "duration": 19710.503463,
   "end_time": "2022-06-19T20:11:03.548170",
   "environment_variables": {},
   "exception": null,
   "input_path": "__notebook__.ipynb",
   "output_path": "__notebook__.ipynb",
   "parameters": {},
   "start_time": "2022-06-19T14:42:33.044707",
   "version": "2.3.4"
  }
 },
 "nbformat": 4,
 "nbformat_minor": 5
}
